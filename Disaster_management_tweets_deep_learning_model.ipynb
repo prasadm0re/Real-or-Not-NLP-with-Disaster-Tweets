{
  "nbformat": 4,
  "nbformat_minor": 0,
  "metadata": {
    "kernelspec": {
      "name": "python3",
      "display_name": "Python 3"
    },
    "language_info": {
      "codemirror_mode": {
        "name": "ipython",
        "version": 3
      },
      "file_extension": ".py",
      "mimetype": "text/x-python",
      "name": "python",
      "nbconvert_exporter": "python",
      "pygments_lexer": "ipython3",
      "version": "3.7.3"
    },
    "colab": {
      "name": "Disaster_management_tweets_deep_learning_model.ipynb",
      "provenance": [],
      "collapsed_sections": [],
      "machine_shape": "hm"
    }
  },
  "cells": [
    {
      "cell_type": "markdown",
      "metadata": {
        "id": "4peldHWgW8QP",
        "colab_type": "text"
      },
      "source": [
        "WORD2VEC 3.0"
      ]
    },
    {
      "cell_type": "code",
      "metadata": {
        "id": "86Y5IvBhXAT0",
        "colab_type": "code",
        "colab": {
          "base_uri": "https://localhost:8080/",
          "height": 125
        },
        "outputId": "b0eaf2c7-84c1-4bd9-85e6-80057b20ba4a"
      },
      "source": [
        "from google.colab import drive\n",
        "drive.mount('/content/drive')"
      ],
      "execution_count": 2,
      "outputs": [
        {
          "output_type": "stream",
          "text": [
            "Go to this URL in a browser: https://accounts.google.com/o/oauth2/auth?client_id=947318989803-6bn6qk8qdgf4n4g3pfee6491hc0brc4i.apps.googleusercontent.com&redirect_uri=urn%3aietf%3awg%3aoauth%3a2.0%3aoob&scope=email%20https%3a%2f%2fwww.googleapis.com%2fauth%2fdocs.test%20https%3a%2f%2fwww.googleapis.com%2fauth%2fdrive%20https%3a%2f%2fwww.googleapis.com%2fauth%2fdrive.photos.readonly%20https%3a%2f%2fwww.googleapis.com%2fauth%2fpeopleapi.readonly&response_type=code\n",
            "\n",
            "Enter your authorization code:\n",
            "··········\n",
            "Mounted at /content/drive\n"
          ],
          "name": "stdout"
        }
      ]
    },
    {
      "cell_type": "code",
      "metadata": {
        "id": "RneGbMVWPQRC",
        "colab_type": "code",
        "colab": {
          "base_uri": "https://localhost:8080/",
          "height": 852
        },
        "outputId": "cccbeb3d-707b-4274-9d1d-d2c94da309e2"
      },
      "source": [
        "import nltk\n",
        "nltk.download(\"popular\")"
      ],
      "execution_count": 3,
      "outputs": [
        {
          "output_type": "stream",
          "text": [
            "[nltk_data] Downloading collection 'popular'\n",
            "[nltk_data]    | \n",
            "[nltk_data]    | Downloading package cmudict to /root/nltk_data...\n",
            "[nltk_data]    |   Unzipping corpora/cmudict.zip.\n",
            "[nltk_data]    | Downloading package gazetteers to /root/nltk_data...\n",
            "[nltk_data]    |   Unzipping corpora/gazetteers.zip.\n",
            "[nltk_data]    | Downloading package genesis to /root/nltk_data...\n",
            "[nltk_data]    |   Unzipping corpora/genesis.zip.\n",
            "[nltk_data]    | Downloading package gutenberg to /root/nltk_data...\n",
            "[nltk_data]    |   Unzipping corpora/gutenberg.zip.\n",
            "[nltk_data]    | Downloading package inaugural to /root/nltk_data...\n",
            "[nltk_data]    |   Unzipping corpora/inaugural.zip.\n",
            "[nltk_data]    | Downloading package movie_reviews to\n",
            "[nltk_data]    |     /root/nltk_data...\n",
            "[nltk_data]    |   Unzipping corpora/movie_reviews.zip.\n",
            "[nltk_data]    | Downloading package names to /root/nltk_data...\n",
            "[nltk_data]    |   Unzipping corpora/names.zip.\n",
            "[nltk_data]    | Downloading package shakespeare to /root/nltk_data...\n",
            "[nltk_data]    |   Unzipping corpora/shakespeare.zip.\n",
            "[nltk_data]    | Downloading package stopwords to /root/nltk_data...\n",
            "[nltk_data]    |   Unzipping corpora/stopwords.zip.\n",
            "[nltk_data]    | Downloading package treebank to /root/nltk_data...\n",
            "[nltk_data]    |   Unzipping corpora/treebank.zip.\n",
            "[nltk_data]    | Downloading package twitter_samples to\n",
            "[nltk_data]    |     /root/nltk_data...\n",
            "[nltk_data]    |   Unzipping corpora/twitter_samples.zip.\n",
            "[nltk_data]    | Downloading package omw to /root/nltk_data...\n",
            "[nltk_data]    |   Unzipping corpora/omw.zip.\n",
            "[nltk_data]    | Downloading package wordnet to /root/nltk_data...\n",
            "[nltk_data]    |   Unzipping corpora/wordnet.zip.\n",
            "[nltk_data]    | Downloading package wordnet_ic to /root/nltk_data...\n",
            "[nltk_data]    |   Unzipping corpora/wordnet_ic.zip.\n",
            "[nltk_data]    | Downloading package words to /root/nltk_data...\n",
            "[nltk_data]    |   Unzipping corpora/words.zip.\n",
            "[nltk_data]    | Downloading package maxent_ne_chunker to\n",
            "[nltk_data]    |     /root/nltk_data...\n",
            "[nltk_data]    |   Unzipping chunkers/maxent_ne_chunker.zip.\n",
            "[nltk_data]    | Downloading package punkt to /root/nltk_data...\n",
            "[nltk_data]    |   Unzipping tokenizers/punkt.zip.\n",
            "[nltk_data]    | Downloading package snowball_data to\n",
            "[nltk_data]    |     /root/nltk_data...\n",
            "[nltk_data]    | Downloading package averaged_perceptron_tagger to\n",
            "[nltk_data]    |     /root/nltk_data...\n",
            "[nltk_data]    |   Unzipping taggers/averaged_perceptron_tagger.zip.\n",
            "[nltk_data]    | \n",
            "[nltk_data]  Done downloading collection popular\n"
          ],
          "name": "stdout"
        },
        {
          "output_type": "execute_result",
          "data": {
            "text/plain": [
              "True"
            ]
          },
          "metadata": {
            "tags": []
          },
          "execution_count": 3
        }
      ]
    },
    {
      "cell_type": "code",
      "metadata": {
        "id": "HnCJfSSj8ChA",
        "colab_type": "code",
        "colab": {}
      },
      "source": [
        ""
      ],
      "execution_count": null,
      "outputs": []
    },
    {
      "cell_type": "code",
      "metadata": {
        "id": "UA0DUOPAWbZN",
        "colab_type": "code",
        "colab": {}
      },
      "source": [
        "import warnings\n",
        "warnings.filterwarnings('ignore')\n",
        "\n",
        "# Modules for data manipulation\n",
        "import numpy as np\n",
        "import pandas as pd\n",
        "import re\n",
        "import string\n",
        "\n",
        "# Modules for visualization\n",
        "import matplotlib.pyplot as plt\n",
        "import seaborn as sb\n",
        "\n",
        "# Tools for preprocessing input data\n",
        "from bs4 import BeautifulSoup\n",
        "from nltk import word_tokenize\n",
        "from nltk.corpus import stopwords\n",
        "from nltk.stem import WordNetLemmatizer\n",
        "from nltk.tokenize import word_tokenize\n",
        "\n",
        "# Tools for creating ngrams and vectorizing input data\n",
        "from gensim.models import Word2Vec\n",
        "from gensim.models.phrases import Phrases, Phraser\n",
        "\n",
        "\n",
        "# Tools for building a model\n",
        "from sklearn.model_selection import train_test_split\n",
        "from keras.models import Sequential\n",
        "from keras.layers import Dense, LSTM, Dropout, Bidirectional, SpatialDropout1D\n",
        "from keras.layers.embeddings import Embedding\n",
        "from keras.preprocessing.sequence import pad_sequences\n",
        "from keras.preprocessing.text import Tokenizer\n",
        "from keras.models import Sequential\n",
        "from keras.initializers import Constant\n",
        "from keras.optimizers import Adam\n",
        "\n",
        "# Tools for assessing the quality of model prediction\n",
        "from sklearn.metrics import accuracy_score, confusion_matrix\n",
        "\n",
        "from tqdm import tqdm"
      ],
      "execution_count": 4,
      "outputs": []
    },
    {
      "cell_type": "code",
      "metadata": {
        "id": "lpEa2t9wWbZS",
        "colab_type": "code",
        "colab": {
          "base_uri": "https://localhost:8080/",
          "height": 34
        },
        "outputId": "96111b01-bfd3-4ce9-d190-a73b174f0e19"
      },
      "source": [
        "import pandas as pd\n",
        "tweet_train = pd.read_csv(\"/content/drive/My Drive/Colab Notebooks/Dataset/train.csv\", encoding = \"ISO-8859-1\", error_bad_lines=False)    \n",
        "tweet_test = pd.read_csv(\"/content/drive/My Drive/Colab Notebooks/Dataset/test.csv\", encoding = \"ISO-8859-1\", error_bad_lines=False)\n",
        "\n",
        "# Concatenate train test data for cleaning.\n",
        "df=pd.concat([tweet_train,tweet_test])\n",
        "print(df.shape)"
      ],
      "execution_count": 6,
      "outputs": [
        {
          "output_type": "stream",
          "text": [
            "(10876, 5)\n"
          ],
          "name": "stdout"
        }
      ]
    },
    {
      "cell_type": "code",
      "metadata": {
        "id": "nwYcJA1CWbZU",
        "colab_type": "code",
        "colab": {
          "base_uri": "https://localhost:8080/",
          "height": 87
        },
        "outputId": "1d57a221-a397-4a9e-c820-1e6773373b68"
      },
      "source": [
        "df.target.unique()\n",
        "# CHECK CLASS BALANCE\n",
        "print(df['target'].value_counts())\n",
        "print(df.target.unique())"
      ],
      "execution_count": 7,
      "outputs": [
        {
          "output_type": "stream",
          "text": [
            "0.0    4342\n",
            "1.0    3271\n",
            "Name: target, dtype: int64\n",
            "[ 1.  0. nan]\n"
          ],
          "name": "stdout"
        }
      ]
    },
    {
      "cell_type": "code",
      "metadata": {
        "id": "zkQ2G048WP4y",
        "colab_type": "code",
        "colab": {}
      },
      "source": [
        ""
      ],
      "execution_count": null,
      "outputs": []
    },
    {
      "cell_type": "code",
      "metadata": {
        "id": "YrJs2ZoD1l_n",
        "colab_type": "code",
        "colab": {
          "base_uri": "https://localhost:8080/",
          "height": 70
        },
        "outputId": "33bb2465-e028-4777-9507-b7a8264e188c"
      },
      "source": [
        "df.dropna(subset=['text'])\n",
        "print(df['target'].value_counts())"
      ],
      "execution_count": 8,
      "outputs": [
        {
          "output_type": "stream",
          "text": [
            "0.0    4342\n",
            "1.0    3271\n",
            "Name: target, dtype: int64\n"
          ],
          "name": "stdout"
        }
      ]
    },
    {
      "cell_type": "code",
      "metadata": {
        "id": "Ks8nMEuyWbZY",
        "colab_type": "code",
        "colab": {}
      },
      "source": [
        ""
      ],
      "execution_count": null,
      "outputs": []
    },
    {
      "cell_type": "code",
      "metadata": {
        "id": "k8536yL2WbZa",
        "colab_type": "code",
        "colab": {
          "base_uri": "https://localhost:8080/",
          "height": 212
        },
        "outputId": "2e3fb5c0-8833-46a0-c06f-db0c9fa78d87"
      },
      "source": [
        "all_Text = np.array([], dtype=str)\n",
        "all_Text = np.concatenate((all_Text, df.text), axis=0)\n",
        "print('Total number of reviews:', len(all_Text))\n",
        "print(all_Text[:10])"
      ],
      "execution_count": 9,
      "outputs": [
        {
          "output_type": "stream",
          "text": [
            "Total number of reviews: 10876\n",
            "['Our Deeds are the Reason of this #earthquake May ALLAH Forgive us all'\n",
            " 'Forest fire near La Ronge Sask. Canada'\n",
            " \"All residents asked to 'shelter in place' are being notified by officers. No other evacuation or shelter in place orders are expected\"\n",
            " '13,000 people receive #wildfires evacuation orders in California '\n",
            " 'Just got sent this photo from Ruby #Alaska as smoke from #wildfires pours into a school '\n",
            " '#RockyFire Update => California Hwy. 20 closed in both directions due to Lake County fire - #CAfire #wildfires'\n",
            " '#flood #disaster Heavy rain causes flash flooding of streets in Manitou, Colorado Springs areas'\n",
            " \"I'm on top of the hill and I can see a fire in the woods...\"\n",
            " \"There's an emergency evacuation happening now in the building across the street\"\n",
            " \"I'm afraid that the tornado is coming to our area...\"]\n"
          ],
          "name": "stdout"
        }
      ]
    },
    {
      "cell_type": "code",
      "metadata": {
        "id": "FRKYzP_Ah-y6",
        "colab_type": "code",
        "colab": {}
      },
      "source": [
        "def get_length(sentence):\n",
        "  return len(sentence.split())\n",
        "  \n",
        "df['word_length'] = df['text'].map(lambda x : get_length(x))\n",
        "median = df['word_length'].median()\n",
        "mean = df['word_length'].mean()\n",
        "mode = df['word_length'].mode()[0]"
      ],
      "execution_count": 10,
      "outputs": []
    },
    {
      "cell_type": "code",
      "metadata": {
        "id": "D5VxJ1ZEWbZc",
        "colab_type": "code",
        "colab": {}
      },
      "source": [
        "import numpy as np\n",
        "df['text_length'] = np.array(list(map(len, all_Text)))\n",
        "median_tl = df['text_length'].median()\n",
        "mean_tl = df['text_length'].mean()\n",
        "mode_tl = df['text_length'].mode()[0]\n"
      ],
      "execution_count": 11,
      "outputs": []
    },
    {
      "cell_type": "markdown",
      "metadata": {
        "id": "SmNxcVg9WbZe",
        "colab_type": "text"
      },
      "source": [
        "\n",
        "fig, ax = plt.subplots()\n",
        "sb.distplot(df['text_lenght'], bins=df['text_lenght'].max(),\n",
        "            hist_kws={\"alpha\": 0.9, \"color\": \"blue\"}, ax=ax,\n",
        "            kde_kws={\"color\": \"black\", 'linewidth': 3})\n",
        "ax.set_xlim(left=0, right=np.percentile(df['text_lenght'], 95))\n",
        "ax.set_xlabel('Words in Requirements')\n",
        "ymax = 0.014\n",
        "plt.ylim(0, ymax)\n",
        "ax.plot([mode, mode], [0, ymax], '--', label=f'mode = {mode:.2f}', linewidth=4)\n",
        "ax.plot([mean, mean], [0, ymax], '--', label=f'mean = {mean:.2f}', linewidth=4)\n",
        "ax.plot([median, median], [0, ymax], '--',\n",
        "        label=f'median = {median:.2f}', linewidth=4)\n",
        "ax.set_title('Words per Requirements distribution', fontsize=20)\n",
        "plt.legend()\n",
        "plt.show()\n",
        "\n"
      ]
    },
    {
      "cell_type": "code",
      "metadata": {
        "id": "noHPbWnni1iq",
        "colab_type": "code",
        "colab": {
          "base_uri": "https://localhost:8080/",
          "height": 300
        },
        "outputId": "760278f9-92da-4873-97e0-5ff35f1b056f"
      },
      "source": [
        "fig, ax = plt.subplots()\n",
        "sb.distplot(df['word_length'], bins=df['word_length'].max(),\n",
        "            hist_kws={\"alpha\": 0.9, \"color\": \"blue\"}, ax=ax,\n",
        "            kde_kws={\"color\": \"black\", 'linewidth': 3})\n",
        "ax.set_xlim(left=0, right=np.percentile(df['word_length'], 100))\n",
        "ax.set_xlabel('Words in Text')\n",
        "ymax = 0.09\n",
        "plt.ylim(0, ymax)\n",
        "ax.plot([mode, mode], [0, ymax], '--', label=f'mode = {mode:.2f}', linewidth=4)\n",
        "ax.plot([mean, mean], [0, ymax], '--', label=f'mean = {mean:.2f}', linewidth=4)\n",
        "ax.plot([median, median], [0, ymax], '--',\n",
        "        label=f'median = {median:.2f}', linewidth=4)\n",
        "ax.set_title('Words per Text distribution', fontsize=20)\n",
        "plt.legend()\n",
        "plt.show()\n"
      ],
      "execution_count": 13,
      "outputs": [
        {
          "output_type": "display_data",
          "data": {
            "image/png": "[encoded data removed]",
            "text/plain": [
              "<Figure size 432x288 with 1 Axes>"
            ]
          },
          "metadata": {
            "tags": [],
            "needs_background": "light"
          }
        }
      ]
    },
    {
      "cell_type": "code",
      "metadata": {
        "id": "WE0TQzO7WbZe",
        "colab_type": "code",
        "colab": {}
      },
      "source": [
        ""
      ],
      "execution_count": null,
      "outputs": []
    },
    {
      "cell_type": "code",
      "metadata": {
        "id": "CQq4W8uXWbZg",
        "colab_type": "code",
        "colab": {
          "base_uri": "https://localhost:8080/",
          "height": 197
        },
        "outputId": "f092dcc2-f961-4fb2-9f6d-0313f5dc1b89"
      },
      "source": [
        "def clean_data(df, text_col, new_col='cleaned_text'):\n",
        "    \n",
        "    '''It will remove the noise from the text data(@user, characters not able to encode/decode properly)    \n",
        "    Arguments:\n",
        "    df : Data Frame\n",
        "    col : column name of type string\n",
        "    '''\n",
        "    tweets_data = df.copy()\n",
        "    \n",
        "    #tweets_data[new_col] = tweets_data[text_col].apply(lambda x : re.sub(\n",
        "    #   f\"@[A-Za-z0-9]+\", '', x))\n",
        "    \n",
        "    #temp line\n",
        "    tweets_data[new_col] = tweets_data[text_col]\n",
        " \n",
        "\n",
        "    # Keeping only few punctuations \n",
        "    tweets_data[new_col] = tweets_data[new_col].apply(lambda x : re.sub(\n",
        "        '@[A-Za-z0-9]+', '', x))\n",
        "\n",
        "    #tweets_data[new_col] = tweets_data[new_col].apply(lambda x : re.sub(\n",
        "        #f'[^{PUNCTUATION_TO_KEEP}A-Za-z0-9]', '', x))\n",
        "\n",
        "    # Trimming the sentences\n",
        "    tweets_data[new_col] = tweets_data[new_col].str.strip()\n",
        "    \n",
        "    tweets_data[new_col] = tweets_data[new_col].map(lambda x: re.sub('\\\\n',' ',str(x)))\n",
        "    tweets_data[new_col] = tweets_data[new_col].map(lambda x: re.sub(r'\\W',' ',str(x)))\n",
        "    tweets_data[new_col] = tweets_data[new_col].map(lambda x: re.sub(r'https\\s+|www.\\s+',r'', str(x)))\n",
        "    tweets_data[new_col] = tweets_data[new_col].map(lambda x: re.sub(r'http\\s+|www.\\s+',r'', str(x)))\n",
        "    tweets_data[new_col] = tweets_data[new_col].map(lambda x: re.sub(r'\\s+[a-zA-Z]\\s+',' ',str(x)))\n",
        "    tweets_data[new_col] = tweets_data[new_col].map(lambda x: re.sub(r'\\^[a-zA-Z]\\s+',' ',str(x)))\n",
        "    tweets_data[new_col] = tweets_data[new_col].map(lambda x: re.sub(r'\\s+',' ',str(x)))\n",
        "    tweets_data[new_col] = tweets_data[new_col].str.lower()\n",
        "    tweets_data[new_col] = tweets_data[new_col].map(lambda x: re.sub(r\"\\’\", \"\\'\", str(x)))\n",
        "    tweets_data[new_col] = tweets_data[new_col].map(lambda x: re.sub(r\"won\\'t\", \"will not\", str(x)))\n",
        "    tweets_data[new_col] = tweets_data[new_col].map(lambda x: re.sub(r\"can\\'t\", \"can not\", str(x)))\n",
        "    tweets_data[new_col] = tweets_data[new_col].map(lambda x: re.sub(r\"don\\'t\", \"do not\", str(x)))\n",
        "    tweets_data[new_col] = tweets_data[new_col].map(lambda x: re.sub(r\"dont\", \"do not\", str(x)))\n",
        "    tweets_data[new_col] = tweets_data[new_col].map(lambda x: re.sub(r\"n\\’t\", \" not\", str(x)))\n",
        "    tweets_data[new_col] = tweets_data[new_col].map(lambda x: re.sub(r\"n\\'t\", \" not\", str(x)))\n",
        "    tweets_data[new_col] = tweets_data[new_col].map(lambda x: re.sub(r\"\\'re\", \" are\", str(x)))\n",
        "    tweets_data[new_col] = tweets_data[new_col].map(lambda x: re.sub(r\"\\'s\", \" is\", str(x)))\n",
        "    tweets_data[new_col] = tweets_data[new_col].map(lambda x: re.sub(r\"\\’d\", \" would\", str(x)))\n",
        "    tweets_data[new_col] = tweets_data[new_col].map(lambda x: re.sub(r\"\\d\", \" would\", str(x)))\n",
        "    tweets_data[new_col] = tweets_data[new_col].map(lambda x: re.sub(r\"\\'ll\", \" will\", str(x)))\n",
        "    tweets_data[new_col] = tweets_data[new_col].map(lambda x: re.sub(r\"\\'t\", \" not\", str(x)))\n",
        "    tweets_data[new_col] = tweets_data[new_col].map(lambda x: re.sub(r\"\\'ve\", \" have\", str(x)))\n",
        "    tweets_data[new_col] = tweets_data[new_col].map(lambda x: re.sub(r\"\\'m\", \" am\", str(x)))\n",
        "    tweets_data[new_col] = tweets_data[new_col].map(lambda x: re.sub(r\"\\n\", \"\", str(x)))\n",
        "    tweets_data[new_col] = tweets_data[new_col].map(lambda x: re.sub(r\"\\r\", \"\", str(x)))\n",
        "    tweets_data[new_col] = tweets_data[new_col].map(lambda x: re.sub(r\"[0-9]\", \"digit\", str(x)))\n",
        "    tweets_data[new_col] = tweets_data[new_col].map(lambda x: re.sub(r\"\\'\", \"\", str(x)))\n",
        "    tweets_data[new_col] = tweets_data[new_col].map(lambda x: re.sub(r\"\\\"\", \"\", str(x)))\n",
        "    tweets_data[new_col] = tweets_data[new_col].map(lambda x: re.sub(r'[?|!|\\'|\"|#]',r'', str(x)))\n",
        "    tweets_data[new_col] = tweets_data[new_col].map(lambda x: re.sub(r'[.|,|)|(|\\|/]',r' ', str(x)))\n",
        "    \n",
        "    return tweets_data\n",
        "  \n",
        "df = clean_data(df, \"text\", 'cleaned_text')\n",
        "df.head()"
      ],
      "execution_count": 14,
      "outputs": [
        {
          "output_type": "execute_result",
          "data": {
            "text/html": [
              "<div>\n",
              "<style scoped>\n",
              "    .dataframe tbody tr th:only-of-type {\n",
              "        vertical-align: middle;\n",
              "    }\n",
              "\n",
              "    .dataframe tbody tr th {\n",
              "        vertical-align: top;\n",
              "    }\n",
              "\n",
              "    .dataframe thead th {\n",
              "        text-align: right;\n",
              "    }\n",
              "</style>\n",
              "<table border=\"1\" class=\"dataframe\">\n",
              "  <thead>\n",
              "    <tr style=\"text-align: right;\">\n",
              "      <th></th>\n",
              "      <th>id</th>\n",
              "      <th>keyword</th>\n",
              "      <th>location</th>\n",
              "      <th>text</th>\n",
              "      <th>target</th>\n",
              "      <th>word_length</th>\n",
              "      <th>text_length</th>\n",
              "      <th>cleaned_text</th>\n",
              "    </tr>\n",
              "  </thead>\n",
              "  <tbody>\n",
              "    <tr>\n",
              "      <th>0</th>\n",
              "      <td>1</td>\n",
              "      <td>NaN</td>\n",
              "      <td>NaN</td>\n",
              "      <td>Our Deeds are the Reason of this #earthquake M...</td>\n",
              "      <td>1.0</td>\n",
              "      <td>13</td>\n",
              "      <td>69</td>\n",
              "      <td>our deeds are the reason of this earthquake ma...</td>\n",
              "    </tr>\n",
              "    <tr>\n",
              "      <th>1</th>\n",
              "      <td>4</td>\n",
              "      <td>NaN</td>\n",
              "      <td>NaN</td>\n",
              "      <td>Forest fire near La Ronge Sask. Canada</td>\n",
              "      <td>1.0</td>\n",
              "      <td>7</td>\n",
              "      <td>38</td>\n",
              "      <td>forest fire near la ronge sask canada</td>\n",
              "    </tr>\n",
              "    <tr>\n",
              "      <th>2</th>\n",
              "      <td>5</td>\n",
              "      <td>NaN</td>\n",
              "      <td>NaN</td>\n",
              "      <td>All residents asked to 'shelter in place' are ...</td>\n",
              "      <td>1.0</td>\n",
              "      <td>22</td>\n",
              "      <td>133</td>\n",
              "      <td>all residents asked to shelter in place are be...</td>\n",
              "    </tr>\n",
              "    <tr>\n",
              "      <th>3</th>\n",
              "      <td>6</td>\n",
              "      <td>NaN</td>\n",
              "      <td>NaN</td>\n",
              "      <td>13,000 people receive #wildfires evacuation or...</td>\n",
              "      <td>1.0</td>\n",
              "      <td>8</td>\n",
              "      <td>65</td>\n",
              "      <td>would would  would would would people receive...</td>\n",
              "    </tr>\n",
              "    <tr>\n",
              "      <th>4</th>\n",
              "      <td>7</td>\n",
              "      <td>NaN</td>\n",
              "      <td>NaN</td>\n",
              "      <td>Just got sent this photo from Ruby #Alaska as ...</td>\n",
              "      <td>1.0</td>\n",
              "      <td>16</td>\n",
              "      <td>88</td>\n",
              "      <td>just got sent this photo from ruby alaska as s...</td>\n",
              "    </tr>\n",
              "  </tbody>\n",
              "</table>\n",
              "</div>"
            ],
            "text/plain": [
              "   id keyword  ... text_length                                       cleaned_text\n",
              "0   1     NaN  ...          69  our deeds are the reason of this earthquake ma...\n",
              "1   4     NaN  ...          38              forest fire near la ronge sask canada\n",
              "2   5     NaN  ...         133  all residents asked to shelter in place are be...\n",
              "3   6     NaN  ...          65   would would  would would would people receive...\n",
              "4   7     NaN  ...          88  just got sent this photo from ruby alaska as s...\n",
              "\n",
              "[5 rows x 8 columns]"
            ]
          },
          "metadata": {
            "tags": []
          },
          "execution_count": 14
        }
      ]
    },
    {
      "cell_type": "code",
      "metadata": {
        "id": "hVEb4jJlWbZi",
        "colab_type": "code",
        "colab": {
          "base_uri": "https://localhost:8080/",
          "height": 514
        },
        "outputId": "39b548d7-5004-41f4-9606-25b7255f5365"
      },
      "source": [
        "import re\n",
        "from nltk.stem import WordNetLemmatizer\n",
        "from nltk.corpus import stopwords\n",
        "\n",
        "stop_words = set(stopwords.words(\"english\")) \n",
        "lemmatizer = WordNetLemmatizer()\n",
        "\n",
        "\n",
        "def preprocess(text: str, total: int, show_progress: bool = True) -> list:\n",
        "    if show_progress:\n",
        "        global counter\n",
        "        counter += 1\n",
        "        print('Processing... %6i/%6i'% (counter, total), end='\\r')\n",
        "    text = re.sub(r'[^\\w\\s]','',text, re.UNICODE)\n",
        "    text = text.lower()\n",
        "    #text = text.split('note:')[0]\n",
        "    text = [lemmatizer.lemmatize(token) for token in text.split(\" \")]\n",
        "    text = [lemmatizer.lemmatize(token, \"v\") for token in text]\n",
        "    text = [word for word in text if not word in stop_words]\n",
        "    text = list(filter(None, text))\n",
        "    #text = \" \".join(text)\n",
        "    return text\n",
        "\n",
        "def clean_text(text):\n",
        "    text = re.sub(r'[^\\w\\s]','',text, re.UNICODE)\n",
        "    text = text.lower()\n",
        "    text = text.split('note:')[0]\n",
        "    text = [lemmatizer.lemmatize(token) for token in text.split(\" \")]\n",
        "    text = [lemmatizer.lemmatize(token, \"v\") for token in text]\n",
        "    text = [word for word in text if not word in stop_words]\n",
        "    text = list(filter(None, text))\n",
        "    #text = \" \".join(text)\n",
        "    return text\n",
        "\n",
        "df['Processed_Text'] = df.cleaned_text.apply(lambda x: clean_text(x))\n",
        "df[-10:]"
      ],
      "execution_count": 15,
      "outputs": [
        {
          "output_type": "execute_result",
          "data": {
            "text/html": [
              "<div>\n",
              "<style scoped>\n",
              "    .dataframe tbody tr th:only-of-type {\n",
              "        vertical-align: middle;\n",
              "    }\n",
              "\n",
              "    .dataframe tbody tr th {\n",
              "        vertical-align: top;\n",
              "    }\n",
              "\n",
              "    .dataframe thead th {\n",
              "        text-align: right;\n",
              "    }\n",
              "</style>\n",
              "<table border=\"1\" class=\"dataframe\">\n",
              "  <thead>\n",
              "    <tr style=\"text-align: right;\">\n",
              "      <th></th>\n",
              "      <th>id</th>\n",
              "      <th>keyword</th>\n",
              "      <th>location</th>\n",
              "      <th>text</th>\n",
              "      <th>target</th>\n",
              "      <th>word_length</th>\n",
              "      <th>text_length</th>\n",
              "      <th>cleaned_text</th>\n",
              "      <th>Processed_Text</th>\n",
              "    </tr>\n",
              "  </thead>\n",
              "  <tbody>\n",
              "    <tr>\n",
              "      <th>3253</th>\n",
              "      <td>10838</td>\n",
              "      <td>NaN</td>\n",
              "      <td>NaN</td>\n",
              "      <td>Malaysian PM confirms debris is from missing f...</td>\n",
              "      <td>NaN</td>\n",
              "      <td>10</td>\n",
              "      <td>80</td>\n",
              "      <td>malaysian pm confirms debris is from missing f...</td>\n",
              "      <td>[malaysian, pm, confirm, debris, miss, flight,...</td>\n",
              "    </tr>\n",
              "    <tr>\n",
              "      <th>3254</th>\n",
              "      <td>10845</td>\n",
              "      <td>NaN</td>\n",
              "      <td>NaN</td>\n",
              "      <td>Officials: Alabama home quarantined over possi...</td>\n",
              "      <td>NaN</td>\n",
              "      <td>11</td>\n",
              "      <td>79</td>\n",
              "      <td>officials alabama home quarantined over possib...</td>\n",
              "      <td>[official, alabama, home, quarantine, possible...</td>\n",
              "    </tr>\n",
              "    <tr>\n",
              "      <th>3255</th>\n",
              "      <td>10856</td>\n",
              "      <td>NaN</td>\n",
              "      <td>NaN</td>\n",
              "      <td>See the 16yr old PKK suicide bomber who detona...</td>\n",
              "      <td>NaN</td>\n",
              "      <td>21</td>\n",
              "      <td>138</td>\n",
              "      <td>see the  would wouldyr old pkk suicide bomber ...</td>\n",
              "      <td>[see, would, wouldyr, old, pkk, suicide, bombe...</td>\n",
              "    </tr>\n",
              "    <tr>\n",
              "      <th>3256</th>\n",
              "      <td>10857</td>\n",
              "      <td>NaN</td>\n",
              "      <td>NaN</td>\n",
              "      <td>To conference attendees! The blue line from th...</td>\n",
              "      <td>NaN</td>\n",
              "      <td>24</td>\n",
              "      <td>129</td>\n",
              "      <td>to conference attendees the blue line from the...</td>\n",
              "      <td>[conference, attendee, blue, line, airport, ha...</td>\n",
              "    </tr>\n",
              "    <tr>\n",
              "      <th>3257</th>\n",
              "      <td>10858</td>\n",
              "      <td>NaN</td>\n",
              "      <td>NaN</td>\n",
              "      <td>The death toll in a #IS-suicide car bombing on...</td>\n",
              "      <td>NaN</td>\n",
              "      <td>27</td>\n",
              "      <td>136</td>\n",
              "      <td>the death toll in is suicide car bombing on yp...</td>\n",
              "      <td>[death, toll, suicide, car, bomb, ypg, positio...</td>\n",
              "    </tr>\n",
              "    <tr>\n",
              "      <th>3258</th>\n",
              "      <td>10861</td>\n",
              "      <td>NaN</td>\n",
              "      <td>NaN</td>\n",
              "      <td>EARTHQUAKE SAFETY LOS ANGELES ÂÃÃ SAFETY FA...</td>\n",
              "      <td>NaN</td>\n",
              "      <td>8</td>\n",
              "      <td>58</td>\n",
              "      <td>earthquake safety los angeles â ã ã safety fas...</td>\n",
              "      <td>[earthquake, safety, los, angeles, â, ã, ã, sa...</td>\n",
              "    </tr>\n",
              "    <tr>\n",
              "      <th>3259</th>\n",
              "      <td>10865</td>\n",
              "      <td>NaN</td>\n",
              "      <td>NaN</td>\n",
              "      <td>Storm in RI worse than last hurricane. My city...</td>\n",
              "      <td>NaN</td>\n",
              "      <td>23</td>\n",
              "      <td>139</td>\n",
              "      <td>storm in ri worse than last hurricane my city ...</td>\n",
              "      <td>[storm, ri, worse, last, hurricane, city, amp,...</td>\n",
              "    </tr>\n",
              "    <tr>\n",
              "      <th>3260</th>\n",
              "      <td>10868</td>\n",
              "      <td>NaN</td>\n",
              "      <td>NaN</td>\n",
              "      <td>Green Line derailment in Chicago http://t.co/U...</td>\n",
              "      <td>NaN</td>\n",
              "      <td>6</td>\n",
              "      <td>55</td>\n",
              "      <td>green line derailment in chicago co utbxlcbiuy</td>\n",
              "      <td>[green, line, derailment, chicago, co, utbxlcb...</td>\n",
              "    </tr>\n",
              "    <tr>\n",
              "      <th>3261</th>\n",
              "      <td>10874</td>\n",
              "      <td>NaN</td>\n",
              "      <td>NaN</td>\n",
              "      <td>MEG issues Hazardous Weather Outlook (HWO) htt...</td>\n",
              "      <td>NaN</td>\n",
              "      <td>7</td>\n",
              "      <td>65</td>\n",
              "      <td>meg issues hazardous weather outlook hwo co  w...</td>\n",
              "      <td>[meg, issue, hazardous, weather, outlook, hwo,...</td>\n",
              "    </tr>\n",
              "    <tr>\n",
              "      <th>3262</th>\n",
              "      <td>10875</td>\n",
              "      <td>NaN</td>\n",
              "      <td>NaN</td>\n",
              "      <td>#CityofCalgary has activated its Municipal Eme...</td>\n",
              "      <td>NaN</td>\n",
              "      <td>8</td>\n",
              "      <td>68</td>\n",
              "      <td>cityofcalgary has activated its municipal eme...</td>\n",
              "      <td>[cityofcalgary, ha, activate, municipal, emerg...</td>\n",
              "    </tr>\n",
              "  </tbody>\n",
              "</table>\n",
              "</div>"
            ],
            "text/plain": [
              "         id  ...                                     Processed_Text\n",
              "3253  10838  ...  [malaysian, pm, confirm, debris, miss, flight,...\n",
              "3254  10845  ...  [official, alabama, home, quarantine, possible...\n",
              "3255  10856  ...  [see, would, wouldyr, old, pkk, suicide, bombe...\n",
              "3256  10857  ...  [conference, attendee, blue, line, airport, ha...\n",
              "3257  10858  ...  [death, toll, suicide, car, bomb, ypg, positio...\n",
              "3258  10861  ...  [earthquake, safety, los, angeles, â, ã, ã, sa...\n",
              "3259  10865  ...  [storm, ri, worse, last, hurricane, city, amp,...\n",
              "3260  10868  ...  [green, line, derailment, chicago, co, utbxlcb...\n",
              "3261  10874  ...  [meg, issue, hazardous, weather, outlook, hwo,...\n",
              "3262  10875  ...  [cityofcalgary, ha, activate, municipal, emerg...\n",
              "\n",
              "[10 rows x 9 columns]"
            ]
          },
          "metadata": {
            "tags": []
          },
          "execution_count": 15
        }
      ]
    },
    {
      "cell_type": "code",
      "metadata": {
        "id": "qdBB91VV7vJC",
        "colab_type": "code",
        "colab": {}
      },
      "source": [
        ""
      ],
      "execution_count": null,
      "outputs": []
    },
    {
      "cell_type": "code",
      "metadata": {
        "id": "xgoUu1dwWbZk",
        "colab_type": "code",
        "colab": {
          "base_uri": "https://localhost:8080/",
          "height": 212
        },
        "outputId": "b8b16356-10d3-46fb-bf90-25a25a3524e1"
      },
      "source": [
        "all_Text = np.array([], dtype=str)\n",
        "all_Text = np.concatenate((all_Text, df.cleaned_text), axis=0)\n",
        "print('Total number of reviews:', len(all_Text))\n",
        "print(all_Text[:10])"
      ],
      "execution_count": 16,
      "outputs": [
        {
          "output_type": "stream",
          "text": [
            "Total number of reviews: 10876\n",
            "['our deeds are the reason of this earthquake may allah forgive us all'\n",
            " 'forest fire near la ronge sask canada'\n",
            " 'all residents asked to shelter in place are being notified by officers no other evacuation or shelter in place orders are expected'\n",
            " ' would would  would would would people receive wildfires evacuation orders in california'\n",
            " 'just got sent this photo from ruby alaska as smoke from wildfires pours into school'\n",
            " ' rockyfire update california hwy  would would closed in both directions due to lake county fire cafire wildfires'\n",
            " ' flood disaster heavy rain causes flash flooding of streets in manitou colorado springs areas'\n",
            " 'i on top of the hill and can see fire in the woods '\n",
            " 'there an emergency evacuation happening now in the building across the street'\n",
            " 'i afraid that the tornado is coming to our area ']\n"
          ],
          "name": "stdout"
        }
      ]
    },
    {
      "cell_type": "code",
      "metadata": {
        "id": "iuH-fm62WbZm",
        "colab_type": "code",
        "colab": {
          "base_uri": "https://localhost:8080/",
          "height": 16
        },
        "outputId": "ef5a80c0-7a97-43f8-f3b5-b88f8a31e77a"
      },
      "source": [
        "counter = 0\n",
        "all_Processed_Text = np.array(list(map(lambda x: preprocess(x, len(all_Text)), all_Text)))\n"
      ],
      "execution_count": 17,
      "outputs": [
        {
          "output_type": "stream",
          "text": [
            ""
          ],
          "name": "stdout"
        }
      ]
    },
    {
      "cell_type": "code",
      "metadata": {
        "id": "Au0Kbc4lWbZo",
        "colab_type": "code",
        "colab": {
          "base_uri": "https://localhost:8080/",
          "height": 318
        },
        "outputId": "5b554af3-9ae4-46a4-89ea-1274d88bc389"
      },
      "source": [
        "corpus = all_Processed_Text\n",
        "\n",
        "corpus[:20]"
      ],
      "execution_count": 19,
      "outputs": [
        {
          "output_type": "execute_result",
          "data": {
            "text/plain": [
              "array([list(['deed', 'reason', 'earthquake', 'may', 'allah', 'forgive', 'u']),\n",
              "       list(['forest', 'fire', 'near', 'la', 'ronge', 'sask', 'canada']),\n",
              "       list(['resident', 'ask', 'shelter', 'place', 'notify', 'officer', 'evacuation', 'shelter', 'place', 'order', 'expect']),\n",
              "       list(['would', 'would', 'would', 'would', 'would', 'people', 'receive', 'wildfire', 'evacuation', 'order', 'california']),\n",
              "       list(['get', 'send', 'photo', 'ruby', 'alaska', 'smoke', 'wildfire', 'pour', 'school']),\n",
              "       list(['rockyfire', 'update', 'california', 'hwy', 'would', 'would', 'close', 'direction', 'due', 'lake', 'county', 'fire', 'cafire', 'wildfire']),\n",
              "       list(['flood', 'disaster', 'heavy', 'rain', 'cause', 'flash', 'flood', 'street', 'manitou', 'colorado', 'spring', 'area']),\n",
              "       list(['top', 'hill', 'see', 'fire', 'wood']),\n",
              "       list(['emergency', 'evacuation', 'happen', 'build', 'across', 'street']),\n",
              "       list(['afraid', 'tornado', 'come', 'area']),\n",
              "       list(['three', 'people', 'die', 'heat', 'wave', 'far']),\n",
              "       list(['haha', 'south', 'tampa', 'get', 'flood', 'hah', 'wait', 'second', 'live', 'south', 'tampa', 'gonna', 'gonna', 'fvck', 'flood']),\n",
              "       list(['rain', 'flood', 'florida', 'tampabay', 'tampa', 'would', 'would', 'would', 'would', 'day', 'lose', 'count']),\n",
              "       list(['flood', 'bago', 'myanmar', 'arrive', 'bago']),\n",
              "       list(['damage', 'school', 'bus', 'would', 'would', 'multi', 'car', 'crash', 'break']),\n",
              "       list(['man']), list(['love', 'fruit']), list(['summer', 'lovely']),\n",
              "       list(['car', 'fast']), list(['goooooooaaaaaal'])], dtype=object)"
            ]
          },
          "metadata": {
            "tags": []
          },
          "execution_count": 19
        }
      ]
    },
    {
      "cell_type": "code",
      "metadata": {
        "id": "Wfd8c5I-AynQ",
        "colab_type": "code",
        "colab": {
          "base_uri": "https://localhost:8080/",
          "height": 52
        },
        "outputId": "17fcc71d-5a21-41ea-a723-5a22a7c1a0de"
      },
      "source": [
        "embedding_dict={}\n",
        "with open('/content/drive/My Drive/Colab Notebooks/Dataset/glove.twitter.27B.200d.txt','r',encoding=\"utf8\") as f:\n",
        "    for line in f:\n",
        "        values=line.split()\n",
        "        word=values[0]\n",
        "        vectors=np.asarray(values[1:],'float32')\n",
        "        embedding_dict[word]=vectors\n",
        "f.close()\n",
        "\n",
        "MAX_LEN=50\n",
        "tokenizer_obj=Tokenizer()\n",
        "tokenizer_obj.fit_on_texts(corpus)\n",
        "sequences=tokenizer_obj.texts_to_sequences(corpus)\n",
        "\n",
        "tweet_pad=pad_sequences(sequences,maxlen=MAX_LEN,truncating='post',padding='post')\n",
        "\n",
        "\n",
        "word_index=tokenizer_obj.word_index\n",
        "print('Number of unique words:',len(word_index))\n",
        "\n",
        "num_words=len(word_index)+1\n",
        "embedding_matrix=np.zeros((num_words,200))\n",
        "\n",
        "for word,i in tqdm(word_index.items()):\n",
        "    if i > num_words:\n",
        "        continue\n",
        "    \n",
        "    emb_vec=embedding_dict.get(word)\n",
        "    if emb_vec is not None:\n",
        "        embedding_matrix[i]=emb_vec"
      ],
      "execution_count": 20,
      "outputs": [
        {
          "output_type": "stream",
          "text": [
            "100%|██████████| 23818/23818 [00:00<00:00, 575865.14it/s]"
          ],
          "name": "stderr"
        },
        {
          "output_type": "stream",
          "text": [
            "Number of unique words: 23818\n"
          ],
          "name": "stdout"
        },
        {
          "output_type": "stream",
          "text": [
            "\n"
          ],
          "name": "stderr"
        }
      ]
    },
    {
      "cell_type": "code",
      "metadata": {
        "id": "LKklSiKNfx8Y",
        "colab_type": "code",
        "colab": {
          "base_uri": "https://localhost:8080/",
          "height": 52
        },
        "outputId": "3f6f3d01-178e-4054-ef87-b4a946bbc022"
      },
      "source": [
        "train=tweet_pad[:tweet_train.shape[0]]\n",
        "test=tweet_pad[tweet_train.shape[0]:]\n",
        "print(train.shape)\n",
        "print(test.shape)"
      ],
      "execution_count": 21,
      "outputs": [
        {
          "output_type": "stream",
          "text": [
            "(7613, 50)\n",
            "(3263, 50)\n"
          ],
          "name": "stdout"
        }
      ]
    },
    {
      "cell_type": "code",
      "metadata": {
        "id": "eDw3vCo3gLQ-",
        "colab_type": "code",
        "colab": {
          "base_uri": "https://localhost:8080/",
          "height": 52
        },
        "outputId": "76737a52-9f74-4dac-916f-8e1bc2884b70"
      },
      "source": [
        "X_train,X_test,y_train,y_test=train_test_split(train,tweet_train['target'].values,test_size=0.2)\n",
        "print('Shape of train',X_train.shape)\n",
        "print(\"Shape of Validation \",X_test.shape)"
      ],
      "execution_count": 22,
      "outputs": [
        {
          "output_type": "stream",
          "text": [
            "Shape of train (6090, 50)\n",
            "Shape of Validation  (1523, 50)\n"
          ],
          "name": "stdout"
        }
      ]
    },
    {
      "cell_type": "code",
      "metadata": {
        "id": "ZRZq5-DdmZMm",
        "colab_type": "code",
        "colab": {
          "base_uri": "https://localhost:8080/",
          "height": 52
        },
        "outputId": "d8383f26-8e80-4286-e88a-ac606763fa90"
      },
      "source": [
        "from sklearn.ensemble import RandomForestClassifier\n",
        "#%% Model code - fitting the model\n",
        "y_train = y_train.astype('bool')\n",
        "y_test = y_test.astype('bool')\n",
        "RF_classifier = RandomForestClassifier(bootstrap= False,\n",
        "                                         max_depth= None,\n",
        "                                         max_features= 'sqrt',\n",
        "                                         min_samples_leaf= 1,\n",
        "                                         min_samples_split= 2,\n",
        "                                         n_estimators= 100\n",
        "                                      )\n",
        "RF_classifier.fit(X_train, y_train)\n",
        "\n",
        "#%%\n",
        "print('train accuracy:', RF_classifier.score(X_train,y_train))\n",
        "print('test accuracy:', RF_classifier.score(X_test,y_test))"
      ],
      "execution_count": 23,
      "outputs": [
        {
          "output_type": "stream",
          "text": [
            "train accuracy: 0.9952380952380953\n",
            "test accuracy: 0.6657912015758372\n"
          ],
          "name": "stdout"
        }
      ]
    },
    {
      "cell_type": "code",
      "metadata": {
        "id": "qLkblOgRACD9",
        "colab_type": "code",
        "colab": {
          "base_uri": "https://localhost:8080/",
          "height": 336
        },
        "outputId": "a1bea7b6-ac77-48a7-a66d-081f8461308d"
      },
      "source": [
        "def build_model(embedding_matrix: np.ndarray, input_length: int): \n",
        "    model = Sequential()\n",
        "    model.add(Embedding(\n",
        "        input_dim = embedding_matrix.shape[0],\n",
        "        output_dim = embedding_matrix.shape[1], \n",
        "        input_length = input_length,\n",
        "        weights = [embedding_matrix],\n",
        "        trainable=False))\n",
        "    model.add(SpatialDropout1D(0.2))\n",
        "    model.add(LSTM(128, recurrent_dropout=0.2, return_sequences = False))\n",
        "    #model.add(Bidirectional(LSTM(32, recurrent_dropout=0.1)))\n",
        "    #model.add(Dropout(0.25))\n",
        "    #model.add(Dense(128, activation=\"sigmoid\"))\n",
        "    model.add(Dropout(0.2))\n",
        "    model.add(Dense(1, activation='sigmoid'))\n",
        "    model.summary()\n",
        "    return model\n",
        "\n",
        "model = build_model(\n",
        "    embedding_matrix=embedding_matrix,\n",
        "    input_length=MAX_LEN)\n",
        "    "
      ],
      "execution_count": 50,
      "outputs": [
        {
          "output_type": "stream",
          "text": [
            "Model: \"sequential_6\"\n",
            "_________________________________________________________________\n",
            "Layer (type)                 Output Shape              Param #   \n",
            "=================================================================\n",
            "embedding_6 (Embedding)      (None, 50, 200)           4763800   \n",
            "_________________________________________________________________\n",
            "spatial_dropout1d_4 (Spatial (None, 50, 200)           0         \n",
            "_________________________________________________________________\n",
            "lstm_6 (LSTM)                (None, 128)               168448    \n",
            "_________________________________________________________________\n",
            "dropout_6 (Dropout)          (None, 128)               0         \n",
            "_________________________________________________________________\n",
            "dense_8 (Dense)              (None, 1)                 129       \n",
            "=================================================================\n",
            "Total params: 4,932,377\n",
            "Trainable params: 168,577\n",
            "Non-trainable params: 4,763,800\n",
            "_________________________________________________________________\n"
          ],
          "name": "stdout"
        }
      ]
    },
    {
      "cell_type": "code",
      "metadata": {
        "id": "k6QCYoNsgUgn",
        "colab_type": "code",
        "colab": {
          "base_uri": "https://localhost:8080/",
          "height": 230
        },
        "outputId": "32a3adfd-10da-4ec8-950d-35efa75bc0d8"
      },
      "source": [
        "model.compile(\n",
        "    loss=\"binary_crossentropy\",\n",
        "    optimizer='adam',\n",
        "    metrics=['accuracy'])\n",
        "\n",
        "history=model.fit(X_train,y_train,batch_size=32,epochs=6,validation_data=(X_test,y_test),verbose=2)\n"
      ],
      "execution_count": 51,
      "outputs": [
        {
          "output_type": "stream",
          "text": [
            "Epoch 1/6\n",
            "191/191 - 16s - loss: 0.5357 - accuracy: 0.7489 - val_loss: 0.4710 - val_accuracy: 0.7912\n",
            "Epoch 2/6\n",
            "191/191 - 16s - loss: 0.4782 - accuracy: 0.7908 - val_loss: 0.4831 - val_accuracy: 0.7800\n",
            "Epoch 3/6\n",
            "191/191 - 16s - loss: 0.4562 - accuracy: 0.7985 - val_loss: 0.4645 - val_accuracy: 0.7997\n",
            "Epoch 4/6\n",
            "191/191 - 16s - loss: 0.4431 - accuracy: 0.8087 - val_loss: 0.4484 - val_accuracy: 0.8116\n",
            "Epoch 5/6\n",
            "191/191 - 16s - loss: 0.4272 - accuracy: 0.8123 - val_loss: 0.4618 - val_accuracy: 0.7965\n",
            "Epoch 6/6\n",
            "191/191 - 16s - loss: 0.4087 - accuracy: 0.8269 - val_loss: 0.4310 - val_accuracy: 0.8050\n"
          ],
          "name": "stdout"
        }
      ]
    },
    {
      "cell_type": "code",
      "metadata": {
        "id": "aCdr-X2bgLBm",
        "colab_type": "code",
        "colab": {
          "base_uri": "https://localhost:8080/",
          "height": 405
        },
        "outputId": "0ef966f1-299d-4f97-ff5b-d3c20e029225"
      },
      "source": [
        "fig, (axis1, axis2) = plt.subplots(nrows=1, ncols=2, figsize=(16,6))\n",
        "\n",
        "# summarize history for accuracy\n",
        "axis1.plot(history.history['accuracy'], label='Train', linewidth=3)\n",
        "axis1.plot(history.history['val_accuracy'], label='Validation', linewidth=3)\n",
        "axis1.set_title('Model accuracy', fontsize=16)\n",
        "axis1.set_ylabel('accuracy')\n",
        "axis1.set_xlabel('epoch')\n",
        "axis1.legend(loc='upper left')\n",
        "\n",
        "# summarize history for loss\n",
        "axis2.plot(history.history['loss'], label='Train', linewidth=3)\n",
        "axis2.plot(history.history['val_loss'], label='Validation', linewidth=3)\n",
        "axis2.set_title('Model loss', fontsize=16)\n",
        "axis2.set_ylabel('loss')\n",
        "axis2.set_xlabel('epoch')\n",
        "axis2.legend(loc='upper right')\n",
        "plt.show()"
      ],
      "execution_count": 52,
      "outputs": [
        {
          "output_type": "display_data",
          "data": {
            "image/png": "[encoded data removed]",
            "text/plain": [
              "<Figure size 1152x432 with 2 Axes>"
            ]
          },
          "metadata": {
            "tags": [],
            "needs_background": "light"
          }
        }
      ]
    },
    {
      "cell_type": "code",
      "metadata": {
        "id": "g6r4WLKchoxf",
        "colab_type": "code",
        "colab": {}
      },
      "source": [
        ""
      ],
      "execution_count": 34,
      "outputs": []
    },
    {
      "cell_type": "code",
      "metadata": {
        "id": "dSAacNW_WbaK",
        "colab_type": "code",
        "colab": {}
      },
      "source": [
        "\n",
        "def plot_confusion_matrix(y_true, y_pred, ax, class_names, vmax=None,\n",
        "                          normed=True, title='Confusion matrix'):\n",
        "    matrix = confusion_matrix(y_true,y_pred)\n",
        "    if normed:\n",
        "        matrix = matrix.astype('float') / matrix.sum(axis=1)[:, np.newaxis]\n",
        "    sb.heatmap(matrix, vmax=vmax, annot=True, square=True, ax=ax,\n",
        "               cmap=plt.cm.Blues_r, cbar=False, linecolor='black',\n",
        "               linewidths=1, xticklabels=class_names)\n",
        "    ax.set_title(title, y=1.20, fontsize=16)\n",
        "    #ax.set_ylabel('True labels', fontsize=12)\n",
        "    ax.set_xlabel('Predicted labels', y=1.10, fontsize=12)\n",
        "    ax.set_yticklabels(class_names, rotation=0)"
      ],
      "execution_count": 53,
      "outputs": []
    },
    {
      "cell_type": "code",
      "metadata": {
        "id": "CfLqaaFTyQsB",
        "colab_type": "code",
        "colab": {}
      },
      "source": [
        "y_train_pred = model.predict_classes(X_train)\n",
        "y_test_pred = model.predict_classes(X_test)"
      ],
      "execution_count": 54,
      "outputs": []
    },
    {
      "cell_type": "code",
      "metadata": {
        "id": "3nv1ln3uWbaN",
        "colab_type": "code",
        "colab": {
          "base_uri": "https://localhost:8080/",
          "height": 234
        },
        "outputId": "88a8a3b6-c331-48e0-a6bb-9457b05f4c7f"
      },
      "source": [
        "fig, (axis1, axis2) = plt.subplots(nrows=1, ncols=2)\n",
        "plot_confusion_matrix(y_train, y_train_pred, ax=axis1,\n",
        "                      title='Confusion matrix (train data)',\n",
        "                      class_names=['Positive', 'Negative'])\n",
        "plot_confusion_matrix(y_test, y_test_pred, ax=axis2,\n",
        "                      title='Confusion matrix (test data)',\n",
        "                      class_names=['Positive', 'Negative'])"
      ],
      "execution_count": 55,
      "outputs": [
        {
          "output_type": "display_data",
          "data": {
            "image/png": "[encoded data removed]",
            "text/plain": [
              "<Figure size 432x288 with 2 Axes>"
            ]
          },
          "metadata": {
            "tags": [],
            "needs_background": "light"
          }
        }
      ]
    },
    {
      "cell_type": "code",
      "metadata": {
        "id": "ZSq8AfCydUve",
        "colab_type": "code",
        "colab": {}
      },
      "source": [
        "y_pre=model.predict(test)\n",
        "y_pre=np.round(y_pre).astype(int).reshape(3263)\n",
        "sample_sub=pd.read_csv('/content/drive/My Drive/Colab Notebooks/Dataset/sample_submission.csv')\n",
        "sub=pd.DataFrame({'id':sample_sub['id'].values.tolist(),'target':y_pre})\n",
        "#sub.to_csv('/content/drive/My Drive/Colab Notebooks/Dataset/sample_submission_v4.csv',index=False)"
      ],
      "execution_count": 57,
      "outputs": []
    },
    {
      "cell_type": "code",
      "metadata": {
        "id": "9XjEOcrxWbaU",
        "colab_type": "code",
        "colab": {}
      },
      "source": [
        ""
      ],
      "execution_count": 62,
      "outputs": []
    }
  ]
}